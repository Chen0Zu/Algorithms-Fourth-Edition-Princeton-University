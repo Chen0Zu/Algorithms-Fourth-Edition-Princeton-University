{
 "cells": [
  {
   "cell_type": "code",
   "execution_count": 25,
   "metadata": {},
   "outputs": [],
   "source": [
    "# Node class\n",
    "class Node:\n",
    "    def __init__(self, item):\n",
    "        self.item = item\n",
    "        self.next = None\n",
    "        \n",
    "# linked stack of strings       \n",
    "class linkedStackOfStrings:\n",
    "    def __init__(self):\n",
    "        self.first = None\n",
    "        \n",
    "    # is empty stack\n",
    "    def isEmpty(self):\n",
    "        return self.head == None\n",
    "    \n",
    "    # push new item into the stack\n",
    "    def push(self, item):\n",
    "        first = Node(item)\n",
    "        first.next = self.first\n",
    "        self.first = first\n",
    "    \n",
    "    def print(self):\n",
    "        current = self.first\n",
    "        while(current):\n",
    "            print(current.item)\n",
    "            current = current.next\n",
    "    \n",
    "    "
   ]
  },
  {
   "cell_type": "code",
   "execution_count": 26,
   "metadata": {},
   "outputs": [],
   "source": [
    "x = \"wo\"\n",
    "y = \"shi\"\n",
    "z = \"shui\"\n",
    "my_stack = linkedStackOfStrings()\n",
    "my_stack.push(y)\n",
    "my_stack.push(z)"
   ]
  },
  {
   "cell_type": "code",
   "execution_count": 27,
   "metadata": {},
   "outputs": [
    {
     "name": "stdout",
     "output_type": "stream",
     "text": [
      "shui\n",
      "shi\n"
     ]
    }
   ],
   "source": [
    "my_stack.print()"
   ]
  },
  {
   "cell_type": "code",
   "execution_count": null,
   "metadata": {},
   "outputs": [],
   "source": []
  }
 ],
 "metadata": {
  "kernelspec": {
   "display_name": "Python 3",
   "language": "python",
   "name": "python3"
  },
  "language_info": {
   "codemirror_mode": {
    "name": "ipython",
    "version": 3
   },
   "file_extension": ".py",
   "mimetype": "text/x-python",
   "name": "python",
   "nbconvert_exporter": "python",
   "pygments_lexer": "ipython3",
   "version": "3.7.6"
  }
 },
 "nbformat": 4,
 "nbformat_minor": 4
}
