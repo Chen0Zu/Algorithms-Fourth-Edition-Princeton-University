{
 "cells": [
  {
   "cell_type": "code",
   "execution_count": 95,
   "metadata": {},
   "outputs": [],
   "source": [
    "# Node class\n",
    "class Node:\n",
    "    def __init__(self, item):\n",
    "        self.item = item\n",
    "        self.next = None\n",
    "        \n",
    "# linked stack of strings       \n",
    "class linkedStackOfStrings:\n",
    "    def __init__(self):\n",
    "        self.head = None\n",
    "        \n",
    "    # is empty stack\n",
    "    def isEmpty(self):\n",
    "        return self.head == None\n",
    "    \n",
    "    # push new item into the stack\n",
    "    def push(self, item):\n",
    "        first = Node(item)\n",
    "        first.next = self.head\n",
    "        self.head = first\n",
    "        \n",
    "    def pop(self):\n",
    "        first = self.head\n",
    "        if first is not None:\n",
    "            self.head = first.next\n",
    "            return first.item\n",
    "        else:\n",
    "            return None\n",
    "    \n",
    "    def print(self):\n",
    "        current = self.head\n",
    "        while(current):\n",
    "            print(current.item)\n",
    "            current = current.next\n",
    "            \n",
    "class linkedQueueOfStrings:\n",
    "    def __init__(self):\n",
    "        self.head = None\n",
    "        self.tail = None\n",
    "        \n",
    "    def isEmpty(self):\n",
    "        return self.head == None\n",
    "    \n",
    "    def enqueue(self, item):\n",
    "        last = Node(item)\n",
    "        last.next = None\n",
    "        self.tail = last\n",
    "        if self.isEmpty():\n",
    "            self.head = self.tail\n",
    "    def dequeue(self):\n",
    "        if self.isEmpty() == False:\n",
    "            first = self.head\n",
    "            self.head = first.next\n",
    "            return first.item\n",
    "        else:\n",
    "            return None\n",
    "\n",
    "    def print(self):\n",
    "        current = self.head\n",
    "        while(current):\n",
    "            print(current.item)\n",
    "            current = current.next\n",
    "    "
   ]
  },
  {
   "cell_type": "code",
   "execution_count": 96,
   "metadata": {},
   "outputs": [
    {
     "name": "stdout",
     "output_type": "stream",
     "text": [
      "The final result: 101\n"
     ]
    }
   ],
   "source": [
    "# Arithmetic expression evaluation\n",
    "expression = '(1+((2+3)*(4*5)))'\n",
    "ops = linkedStackOfStrings()\n",
    "vals = linkedStackOfStrings()\n",
    "for ch in expression:\n",
    "    if ch == '(':\n",
    "        None\n",
    "    elif ch == '+':\n",
    "        ops.push(ch)\n",
    "    elif ch == '*':\n",
    "        ops.push(ch)\n",
    "    elif ch == ')':\n",
    "        op = ops.pop()\n",
    "        if op == '+':\n",
    "            vals.push(str(int(vals.pop()) + int(vals.pop())))\n",
    "        elif op == '*':\n",
    "            vals.push(str(int(vals.pop()) * int(vals.pop())))        \n",
    "    else:\n",
    "        vals.push(ch)\n",
    "\n",
    "print('The final result: ' + str(vals.pop()))"
   ]
  },
  {
   "cell_type": "code",
   "execution_count": null,
   "metadata": {},
   "outputs": [],
   "source": []
  }
 ],
 "metadata": {
  "kernelspec": {
   "display_name": "Python 3",
   "language": "python",
   "name": "python3"
  },
  "language_info": {
   "codemirror_mode": {
    "name": "ipython",
    "version": 3
   },
   "file_extension": ".py",
   "mimetype": "text/x-python",
   "name": "python",
   "nbconvert_exporter": "python",
   "pygments_lexer": "ipython3",
   "version": "3.7.6"
  }
 },
 "nbformat": 4,
 "nbformat_minor": 4
}
