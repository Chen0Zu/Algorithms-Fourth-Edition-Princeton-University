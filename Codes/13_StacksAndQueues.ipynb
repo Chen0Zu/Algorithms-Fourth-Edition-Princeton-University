{
 "cells": [
  {
   "cell_type": "code",
   "execution_count": 59,
   "metadata": {},
   "outputs": [],
   "source": [
    "# Node class\n",
    "class Node:\n",
    "    def __init__(self, item):\n",
    "        self.item = item\n",
    "        self.next = None\n",
    "        \n",
    "# linked stack of strings       \n",
    "class linkedStackOfStrings:\n",
    "    def __init__(self):\n",
    "        self.head = None\n",
    "        \n",
    "    # is empty stack\n",
    "    def isEmpty(self):\n",
    "        return self.head == None\n",
    "    \n",
    "    # push new item into the stack\n",
    "    def push(self, item):\n",
    "        first = Node(item)\n",
    "        first.next = self.head\n",
    "        self.head = first\n",
    "        \n",
    "    def pop(self):\n",
    "        first = self.head\n",
    "        if first is not None:\n",
    "            self.head = first.next\n",
    "            return first.item\n",
    "        else:\n",
    "            return None\n",
    "    \n",
    "    def print(self):\n",
    "        current = self.head\n",
    "        while(current):\n",
    "            print(current.item)\n",
    "            current = current.next\n",
    "            \n",
    "class linkedQueueOfString:\n",
    "    def __init__(self):\n",
    "        self.head = None\n",
    "        self.tail = None\n",
    "        \n",
    "    def isEmpty(self):\n",
    "        return self.head == None\n",
    "    \n",
    "    def enqueue(self, item):\n",
    "        last = Node(item)\n",
    "        last.next = None\n",
    "        self.tail = last\n",
    "        if self.isEmpty():\n",
    "#         if self.head == None:\n",
    "            self.head = self.tail\n",
    "\n",
    "    def print(self):\n",
    "        current = self.head\n",
    "        while(current):\n",
    "            print(current.item)\n",
    "            current = current.next\n",
    "    "
   ]
  },
  {
   "cell_type": "code",
   "execution_count": 40,
   "metadata": {},
   "outputs": [],
   "source": [
    "x = \"wo\"\n",
    "y = \"shi\"\n",
    "z = \"shui\"\n",
    "my_stack = linkedStackOfStrings()"
   ]
  },
  {
   "cell_type": "code",
   "execution_count": 27,
   "metadata": {},
   "outputs": [
    {
     "name": "stdout",
     "output_type": "stream",
     "text": [
      "wo\n"
     ]
    }
   ],
   "source": [
    "my_stack.push(x)\n",
    "my_stack.print()"
   ]
  },
  {
   "cell_type": "code",
   "execution_count": 28,
   "metadata": {},
   "outputs": [
    {
     "name": "stdout",
     "output_type": "stream",
     "text": [
      "shui\n",
      "wo\n"
     ]
    }
   ],
   "source": [
    "my_stack.push(z)\n",
    "my_stack.print()"
   ]
  },
  {
   "cell_type": "code",
   "execution_count": 35,
   "metadata": {},
   "outputs": [],
   "source": [
    "popout = my_stack.pop()\n"
   ]
  },
  {
   "cell_type": "code",
   "execution_count": 36,
   "metadata": {},
   "outputs": [
    {
     "name": "stdout",
     "output_type": "stream",
     "text": [
      "None\n"
     ]
    }
   ],
   "source": [
    "print(popout)"
   ]
  },
  {
   "cell_type": "code",
   "execution_count": 56,
   "metadata": {},
   "outputs": [],
   "source": [
    "my_queue = linkedQueueOfString()"
   ]
  },
  {
   "cell_type": "markdown",
   "metadata": {},
   "source": [
    "my_queuc"
   ]
  },
  {
   "cell_type": "code",
   "execution_count": 57,
   "metadata": {},
   "outputs": [
    {
     "name": "stdout",
     "output_type": "stream",
     "text": [
      "hehe\n"
     ]
    }
   ],
   "source": [
    "my_queue.enqueue(\"hehe\")\n",
    "my_queue.print()"
   ]
  },
  {
   "cell_type": "code",
   "execution_count": 58,
   "metadata": {},
   "outputs": [
    {
     "name": "stdout",
     "output_type": "stream",
     "text": [
      "hehe\n"
     ]
    }
   ],
   "source": [
    "my_queue.print()"
   ]
  },
  {
   "cell_type": "code",
   "execution_count": null,
   "metadata": {},
   "outputs": [],
   "source": []
  }
 ],
 "metadata": {
  "kernelspec": {
   "display_name": "Python 3",
   "language": "python",
   "name": "python3"
  },
  "language_info": {
   "codemirror_mode": {
    "name": "ipython",
    "version": 3
   },
   "file_extension": ".py",
   "mimetype": "text/x-python",
   "name": "python",
   "nbconvert_exporter": "python",
   "pygments_lexer": "ipython3",
   "version": "3.7.6"
  }
 },
 "nbformat": 4,
 "nbformat_minor": 4
}
